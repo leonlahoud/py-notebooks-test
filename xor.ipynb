{
  "nbformat": 4,
  "nbformat_minor": 0,
  "metadata": {
    "colab": {
      "provenance": [],
      "authorship_tag": "ABX9TyNSMwZmTCgNDq4DNb1Gn8RS",
      "include_colab_link": true
    },
    "kernelspec": {
      "name": "python3",
      "display_name": "Python 3"
    },
    "language_info": {
      "name": "python"
    }
  },
  "cells": [
    {
      "cell_type": "markdown",
      "metadata": {
        "id": "view-in-github",
        "colab_type": "text"
      },
      "source": [
        "<a href=\"https://colab.research.google.com/github/leonlahoud/py-notebooks-test/blob/main/xor.ipynb\" target=\"_parent\"><img src=\"https://colab.research.google.com/assets/colab-badge.svg\" alt=\"Open In Colab\"/></a>"
      ]
    },
    {
      "cell_type": "code",
      "execution_count": 1,
      "metadata": {
        "colab": {
          "base_uri": "https://localhost:8080/"
        },
        "id": "-Z0L4Gzcj6S_",
        "outputId": "dcfb3819-33e5-4ad2-bd16-6776c05fce36"
      },
      "outputs": [
        {
          "output_type": "stream",
          "name": "stdout",
          "text": [
            "Predicted Output:\n",
            "[[0.05321718]\n",
            " [0.95171956]\n",
            " [0.95160871]\n",
            " [0.05174923]]\n"
          ]
        }
      ],
      "source": [
        "import numpy as np\n",
        "\n",
        "# Activation function: Sigmoid\n",
        "def sigmoid(x):\n",
        "    return 1 / (1 + np.exp(-x))\n",
        "\n",
        "# Derivative of sigmoid function\n",
        "def sigmoid_derivative(x):\n",
        "    return x * (1 - x)\n",
        "\n",
        "# Training data for XOR function\n",
        "inputs = np.array([[0, 0], [0, 1], [1, 0], [1, 1]])\n",
        "outputs = np.array([[0], [1], [1], [0]])\n",
        "\n",
        "# Seed for reproducibility\n",
        "np.random.seed(42)\n",
        "\n",
        "# Initialize weights randomly with mean 0\n",
        "input_layer_neurons = 2\n",
        "hidden_layer_neurons = 2\n",
        "output_neurons = 1\n",
        "\n",
        "hidden_weights = np.random.uniform(size=(input_layer_neurons, hidden_layer_neurons))\n",
        "hidden_bias = np.random.uniform(size=(1, hidden_layer_neurons))\n",
        "output_weights = np.random.uniform(size=(hidden_layer_neurons, output_neurons))\n",
        "output_bias = np.random.uniform(size=(1, output_neurons))\n",
        "\n",
        "# Learning rate\n",
        "learning_rate = 0.1\n",
        "epochs = 10000\n",
        "\n",
        "# Training the neural network\n",
        "for epoch in range(epochs):\n",
        "    # Forward Propagation\n",
        "    hidden_layer_input = np.dot(inputs, hidden_weights) + hidden_bias\n",
        "    hidden_layer_output = sigmoid(hidden_layer_input)\n",
        "\n",
        "    output_layer_input = np.dot(hidden_layer_output, output_weights) + output_bias\n",
        "    predicted_output = sigmoid(output_layer_input)\n",
        "\n",
        "    # Backpropagation\n",
        "    error = outputs - predicted_output\n",
        "    d_predicted_output = error * sigmoid_derivative(predicted_output)\n",
        "\n",
        "    error_hidden_layer = d_predicted_output.dot(output_weights.T)\n",
        "    d_hidden_layer = error_hidden_layer * sigmoid_derivative(hidden_layer_output)\n",
        "\n",
        "    # Updating Weights and Biases\n",
        "    output_weights += hidden_layer_output.T.dot(d_predicted_output) * learning_rate\n",
        "    output_bias += np.sum(d_predicted_output, axis=0, keepdims=True) * learning_rate\n",
        "    hidden_weights += inputs.T.dot(d_hidden_layer) * learning_rate\n",
        "    hidden_bias += np.sum(d_hidden_layer, axis=0, keepdims=True) * learning_rate\n",
        "\n",
        "# Testing the neural network\n",
        "hidden_layer_input = np.dot(inputs, hidden_weights) + hidden_bias\n",
        "hidden_layer_output = sigmoid(hidden_layer_input)\n",
        "\n",
        "output_layer_input = np.dot(hidden_layer_output, output_weights) + output_bias\n",
        "predicted_output = sigmoid(output_layer_input)\n",
        "\n",
        "print(\"Predicted Output:\")\n",
        "print(predicted_output)\n"
      ]
    },
    {
      "cell_type": "code",
      "source": [
        "# Function to predict output for new input\n",
        "def predict(input_data):\n",
        "    hidden_layer_input = np.dot(input_data, hidden_weights) + hidden_bias\n",
        "    hidden_layer_output = sigmoid(hidden_layer_input)\n",
        "\n",
        "    output_layer_input = np.dot(hidden_layer_output, output_weights) + output_bias\n",
        "    predicted_output = sigmoid(output_layer_input)\n",
        "    return predicted_output\n",
        "\n",
        "new_inputs = np.array([[1, 0], [0, 1]])\n",
        "predictions = predict(new_inputs)\n",
        "\n",
        "print(\"Predicted Output for [1, 0] and [0, 1]:\")\n",
        "print(predictions)"
      ],
      "metadata": {
        "colab": {
          "base_uri": "https://localhost:8080/"
        },
        "id": "MgUKB5MckC3e",
        "outputId": "87465c4b-fe50-4261-8498-ebb7b9b66590"
      },
      "execution_count": 2,
      "outputs": [
        {
          "output_type": "stream",
          "name": "stdout",
          "text": [
            "Predicted Output for [1, 0] and [0, 1]:\n",
            "[[0.95160871]\n",
            " [0.95171956]]\n"
          ]
        }
      ]
    },
    {
      "cell_type": "code",
      "source": [
        "new_inputs = np.array([ [0, 1]])\n",
        "predictions = predict(new_inputs)\n",
        "\n",
        "print(\"Predicted Output for [1, 0] and [0, 1]:\")\n",
        "print(predictions)"
      ],
      "metadata": {
        "colab": {
          "base_uri": "https://localhost:8080/"
        },
        "id": "4ynNmbczkdrU",
        "outputId": "bb326e09-28e0-43fe-ef50-51cfe5bcda87"
      },
      "execution_count": 3,
      "outputs": [
        {
          "output_type": "stream",
          "name": "stdout",
          "text": [
            "Predicted Output for [1, 0] and [0, 1]:\n",
            "[[0.95171956]]\n"
          ]
        }
      ]
    },
    {
      "cell_type": "code",
      "source": [
        "new_inputs = np.array([[1, 1]])\n",
        "predictions = predict(new_inputs)\n",
        "\n",
        "print(\"Predicted Output for [1, 0] and [0, 1]:\")\n",
        "print(predictions)"
      ],
      "metadata": {
        "colab": {
          "base_uri": "https://localhost:8080/"
        },
        "id": "I_fmhBDTkgRJ",
        "outputId": "34f7bb06-e45d-4844-8674-02e02a23fb24"
      },
      "execution_count": 4,
      "outputs": [
        {
          "output_type": "stream",
          "name": "stdout",
          "text": [
            "Predicted Output for [1, 0] and [0, 1]:\n",
            "[[0.05174923]]\n"
          ]
        }
      ]
    },
    {
      "cell_type": "code",
      "source": [
        "new_inputs = np.array([[0,0]])\n",
        "predictions = predict(new_inputs)\n",
        "\n",
        "print(\"Predicted Output for [1, 0] and [0, 1]:\")\n",
        "print(predictions)"
      ],
      "metadata": {
        "colab": {
          "base_uri": "https://localhost:8080/"
        },
        "id": "n29lgl8FkjUm",
        "outputId": "bd878735-c073-497a-8949-9726d52c6763"
      },
      "execution_count": 5,
      "outputs": [
        {
          "output_type": "stream",
          "name": "stdout",
          "text": [
            "Predicted Output for [1, 0] and [0, 1]:\n",
            "[[0.05321718]]\n"
          ]
        }
      ]
    },
    {
      "cell_type": "code",
      "source": [
        "pip install matplotlib\n"
      ],
      "metadata": {
        "colab": {
          "base_uri": "https://localhost:8080/"
        },
        "id": "6WHg-GTAkvUD",
        "outputId": "375dc1a4-e068-4fcf-c679-8a9dbf2c3de8"
      },
      "execution_count": 6,
      "outputs": [
        {
          "output_type": "stream",
          "name": "stdout",
          "text": [
            "Requirement already satisfied: matplotlib in /usr/local/lib/python3.10/dist-packages (3.7.1)\n",
            "Requirement already satisfied: contourpy>=1.0.1 in /usr/local/lib/python3.10/dist-packages (from matplotlib) (1.2.1)\n",
            "Requirement already satisfied: cycler>=0.10 in /usr/local/lib/python3.10/dist-packages (from matplotlib) (0.12.1)\n",
            "Requirement already satisfied: fonttools>=4.22.0 in /usr/local/lib/python3.10/dist-packages (from matplotlib) (4.51.0)\n",
            "Requirement already satisfied: kiwisolver>=1.0.1 in /usr/local/lib/python3.10/dist-packages (from matplotlib) (1.4.5)\n",
            "Requirement already satisfied: numpy>=1.20 in /usr/local/lib/python3.10/dist-packages (from matplotlib) (1.25.2)\n",
            "Requirement already satisfied: packaging>=20.0 in /usr/local/lib/python3.10/dist-packages (from matplotlib) (24.0)\n",
            "Requirement already satisfied: pillow>=6.2.0 in /usr/local/lib/python3.10/dist-packages (from matplotlib) (9.4.0)\n",
            "Requirement already satisfied: pyparsing>=2.3.1 in /usr/local/lib/python3.10/dist-packages (from matplotlib) (3.1.2)\n",
            "Requirement already satisfied: python-dateutil>=2.7 in /usr/local/lib/python3.10/dist-packages (from matplotlib) (2.8.2)\n",
            "Requirement already satisfied: six>=1.5 in /usr/local/lib/python3.10/dist-packages (from python-dateutil>=2.7->matplotlib) (1.16.0)\n"
          ]
        }
      ]
    },
    {
      "cell_type": "code",
      "source": [
        "import matplotlib.pyplot as plt\n",
        "import networkx as nx\n",
        "\n",
        "def draw_neural_network(input_neurons, hidden_neurons, output_neurons):\n",
        "    G = nx.DiGraph()\n",
        "\n",
        "    # Create nodes for input layer\n",
        "    for i in range(input_neurons):\n",
        "        G.add_node(f\"I{i+1}\", pos=(0, input_neurons-i), layer=\"input\")\n",
        "\n",
        "    # Create nodes for hidden layer\n",
        "    for h in range(hidden_neurons):\n",
        "        G.add_node(f\"H{h+1}\", pos=(1, hidden_neurons-h), layer=\"hidden\")\n",
        "\n",
        "    # Create nodes for output layer\n",
        "    for o in range(output_neurons):\n",
        "        G.add_node(f\"O{o+1}\", pos=(2, output_neurons-o), layer=\"output\")\n",
        "\n",
        "    # Add edges from input to hidden layer\n",
        "    for i in range(input_neurons):\n",
        "        for h in range(hidden_neurons):\n",
        "            G.add_edge(f\"I{i+1}\", f\"H{h+1}\")\n",
        "\n",
        "    # Add edges from hidden to output layer\n",
        "    for h in range(hidden_neurons):\n",
        "        for o in range(output_neurons):\n",
        "            G.add_edge(f\"H{h+1}\", f\"O{o+1}\")\n",
        "\n",
        "    # Get positions for nodes\n",
        "    pos = nx.get_node_attributes(G, 'pos')\n",
        "\n",
        "    # Draw the nodes\n",
        "    nx.draw_networkx_nodes(G, pos, node_size=700, node_color=\"skyblue\")\n",
        "\n",
        "    # Draw the edges\n",
        "    nx.draw_networkx_edges(G, pos, edgelist=G.edges(), arrows=True)\n",
        "\n",
        "    # Draw the labels\n",
        "    nx.draw_networkx_labels(G, pos, font_size=12, font_color=\"black\")\n",
        "\n",
        "    plt.title(\"Neural Network Structure\")\n",
        "    plt.show()\n",
        "\n",
        "# Define the number of neurons in each layer\n",
        "input_neurons = 2\n",
        "hidden_neurons = 2\n",
        "output_neurons = 1\n",
        "\n",
        "# Draw the neural network\n",
        "draw_neural_network(input_neurons, hidden_neurons, output_neurons)\n"
      ],
      "metadata": {
        "colab": {
          "base_uri": "https://localhost:8080/",
          "height": 428
        },
        "id": "zz1Pf79ukxzB",
        "outputId": "1d5e31fc-14c4-418d-a098-d6f96ba95697"
      },
      "execution_count": 7,
      "outputs": [
        {
          "output_type": "display_data",
          "data": {
            "text/plain": [
              "<Figure size 640x480 with 1 Axes>"
            ],
            "image/png": "[encoded data removed]"
          },
          "metadata": {}
        }
      ]
    }
  ]
}